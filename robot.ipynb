{
 "cells": [
  {
   "cell_type": "markdown",
   "metadata": {
    "collapsed": true
   },
   "source": [
    "The below block of code imports the necessary libraries required for the project and also performs necessary operations on the turtles."
   ]
  },
  {
   "cell_type": "code",
   "execution_count": null,
   "metadata": {
    "collapsed": true
   },
   "outputs": [],
   "source": [
    "import numpy as np\n",
    "from numpy import inf\n",
    "import random\n",
    "import time\n",
    "import networkx as nx             # Instructions for downloading the networkx library are provided in the README\n",
    "import turtle                     # For visualization of the algorithm\n",
    "from heapq import heappush, heappop      #Used in Bi-Directional Dijkstra\n",
    "from itertools import count             #Used in Bi-Directional Dijkstra"
   ]
  },
  {
   "cell_type": "code",
   "execution_count": 1,
   "metadata": {
    "collapsed": true
   },
   "outputs": [],
   "source": [
    "dim = 12                   #dim is initialized as a global variable since it is used in almost all functions.\n",
    "wn = turtle.Screen()\n",
    "wn.bgcolor(\"white\")        # set the window background color\n",
    "\n",
    "subir = turtle.Turtle()    # Turtle for first run\n",
    "ritwik = turtle.Turtle()   # Turtle for second run\n",
    "ritwik.color(\"red\")            \n",
    "ritwik.pensize(3)\n",
    "subir.color(\"blue\")\n",
    "subir.pensize(1)"
   ]
  },
  {
   "cell_type": "markdown",
   "metadata": {},
   "source": [
    "The following function implements the bidirectional dijkstra algorithm."
   ]
  },
  {
   "cell_type": "code",
   "execution_count": null,
   "metadata": {
    "collapsed": true
   },
   "outputs": [],
   "source": [
    "def bidirectional_dijkstra(G, source, target, weight=1):\n",
    "\n",
    "    if source == target:\n",
    "        return [source]\n",
    "    push = heappush\n",
    "    pop = heappop\n",
    "    # Init:   Forward             Backward\n",
    "    dists  = [{},                {}]  # dictionary of final distances\n",
    "    paths  = [{source: [source]}, {target: [target]}]  # dictionary of paths\n",
    "    fringe = [[],                []]  # heap of (distance, node) tuples for\n",
    "                                      # extracting next node to expand\n",
    "    seen   = [{source: 0},        {target: 0}]  # dictionary of distances to\n",
    "                                                # nodes seen\n",
    "    c = count()\n",
    "    # initialize fringe heap\n",
    "    push(fringe[0], (0, next(c), source))\n",
    "    push(fringe[1], (0, next(c), target))\n",
    "    # neighs for extracting correct neighbor information\n",
    "    if G.is_directed():\n",
    "        neighs = [G.successors_iter, G.predecessors_iter]\n",
    "    else:\n",
    "        neighs = [G.neighbors_iter, G.neighbors_iter]\n",
    "    # variables to hold shortest discovered path\n",
    "    #finaldist = 1e30000\n",
    "    finalpath = []\n",
    "    dir = 1\n",
    "    while fringe[0] and fringe[1]:\n",
    "        # choose direction\n",
    "        # dir == 0 is forward direction and dir == 1 is back\n",
    "        dir = 1 - dir\n",
    "        # extract closest to expand\n",
    "        (dist, _, v) = pop(fringe[dir])\n",
    "        if v in dists[dir]:\n",
    "            # Shortest path to v has already been found\n",
    "            continue\n",
    "        # update distance\n",
    "        dists[dir][v] = dist  # equal to seen[dir][v]\n",
    "        if v in dists[1 - dir]:\n",
    "            # if we have scanned v in both directions we are done\n",
    "            # we have now discovered the shortest path\n",
    "            return finalpath\n",
    "\n",
    "        for w in neighs[dir](v):\n",
    "            if(dir == 0):  # forward\n",
    "                if G.is_multigraph():\n",
    "                    minweight = min((dd.get(weight, 1)\n",
    "                                     for k, dd in G[v][w].items()))\n",
    "                else:\n",
    "                    minweight = G[v][w].get(weight, 1)\n",
    "                vwLength = dists[dir][v] + minweight  # G[v][w].get(weight,1)\n",
    "            else:  # back, must remember to change v,w->w,v\n",
    "                if G.is_multigraph():\n",
    "                    minweight = min((dd.get(weight, 1)\n",
    "                                     for k, dd in G[w][v].items()))\n",
    "                else:\n",
    "                    minweight = G[w][v].get(weight, 1)\n",
    "                vwLength = dists[dir][v] + minweight  # G[w][v].get(weight,1)\n",
    "\n",
    "            if w in dists[dir]:\n",
    "                if vwLength < dists[dir][w]:\n",
    "                    raise ValueError(\n",
    "                        \"Contradictory paths found: negative weights?\")\n",
    "            elif w not in seen[dir] or vwLength < seen[dir][w]:\n",
    "                # relaxing\n",
    "                seen[dir][w] = vwLength\n",
    "                push(fringe[dir], (vwLength, next(c), w))\n",
    "                paths[dir][w] = paths[dir][v] + [w]\n",
    "                if w in seen[0] and w in seen[1]:\n",
    "                    # see if this path is better than than the already\n",
    "                    # discovered shortest path\n",
    "                    totaldist = seen[0][w] + seen[1][w]\n",
    "                    if finalpath == [] or finaldist > totaldist:\n",
    "                        finaldist = totaldist\n",
    "                        revpath = paths[1][w][:]\n",
    "                        revpath.reverse()\n",
    "                        finalpath = paths[0][w] + revpath[1:]\n",
    "    raise nx.NetworkXNoPath(\"No path between %s and %s.\" % (source, target))"
   ]
  },
  {
   "cell_type": "markdown",
   "metadata": {},
   "source": [
    "A Stack class is made which will later be used for the backtracking algorithm discussed in the project report."
   ]
  },
  {
   "cell_type": "code",
   "execution_count": null,
   "metadata": {
    "collapsed": true
   },
   "outputs": [],
   "source": [
    "class Stack:\n",
    "    def __init__(self):\n",
    "        self.items = []\n",
    "\n",
    "    def isEmpty(self):\n",
    "        return self.items == []\n",
    "\n",
    "    def push(self, item):\n",
    "        self.items.append(item)\n",
    "\n",
    "    def pop(self):\n",
    "        return self.items.pop()\n",
    "\n",
    "    def peek(self):\n",
    "        return self.items[len(self.items) - 1]\n",
    "\n",
    "    def size(self):\n",
    "        return len(self.items)"
   ]
  },
  {
   "cell_type": "markdown",
   "metadata": {},
   "source": [
    "The heuristic function calculates the Manhattan distance between two points."
   ]
  },
  {
   "cell_type": "code",
   "execution_count": null,
   "metadata": {
    "collapsed": true
   },
   "outputs": [],
   "source": [
    "def heuristic(a, b):\n",
    "    (x1, y1) = a\n",
    "    (x2, y2) = b\n",
    "    return abs(x1 - x2) + abs(y1 - y2)"
   ]
  },
  {
   "cell_type": "markdown",
   "metadata": {},
   "source": [
    "The steer function is used to steer the robot given the current heading of the robot and the desired rotation."
   ]
  },
  {
   "cell_type": "code",
   "execution_count": null,
   "metadata": {
    "collapsed": true
   },
   "outputs": [],
   "source": [
    "def steer(heading, rotation):\n",
    "    if rotation == 90:\n",
    "        if heading == 'up':\n",
    "            return 'right'\n",
    "        if heading == 'down':\n",
    "            return 'left'\n",
    "        if heading == 'right':\n",
    "            return 'down'\n",
    "        if heading == 'left':\n",
    "            return 'up'\n",
    "    if rotation == -90:\n",
    "        if heading == 'up':\n",
    "            return 'left'\n",
    "        if heading == 'down':\n",
    "            return 'right'\n",
    "        if heading == 'right':\n",
    "            return 'up'\n",
    "        if heading == 'left':\n",
    "            return 'down'\n",
    "    return heading"
   ]
  },
  {
   "cell_type": "markdown",
   "metadata": {},
   "source": [
    "The move function moves the robot to a particular location given the current heading and distance to the location."
   ]
  },
  {
   "cell_type": "code",
   "execution_count": null,
   "metadata": {
    "collapsed": true
   },
   "outputs": [],
   "source": [
    "def move(heading, location, dist):\n",
    "    location = list(location)                  \n",
    "    if heading == 'up':\n",
    "        location[0] = location[0] + dist\n",
    "    if heading == 'down':\n",
    "        location[0] = location[0] - dist\n",
    "    if heading == 'right':\n",
    "        location[1] = location[1] + dist\n",
    "    if heading == 'left':\n",
    "        location[1] = location[1] - dist\n",
    "    return location"
   ]
  },
  {
   "cell_type": "markdown",
   "metadata": {},
   "source": [
    "The isGoal function is used to check whether the robot has reached the goal or not."
   ]
  },
  {
   "cell_type": "code",
   "execution_count": null,
   "metadata": {
    "collapsed": true
   },
   "outputs": [],
   "source": [
    "def isGoal(location, dim):\n",
    "    return (dim / 2 - 1) <= location[0] and location[0] <= (dim / 2) and (dim / 2 - 1) <= location[1] and location[\n",
    "                                                                                                              1] <= (\n",
    "                                                                                                              dim / 2)"
   ]
  },
  {
   "cell_type": "markdown",
   "metadata": {},
   "source": [
    "THe hcost function is used to calculate the Hcost of the current location. "
   ]
  },
  {
   "cell_type": "code",
   "execution_count": null,
   "metadata": {
    "collapsed": true
   },
   "outputs": [],
   "source": [
    "def hcost(location, dim):\n",
    "    return np.amin([heuristic(location, [dim / 2, dim / 2]), heuristic(location, [dim / 2 - 1, dim / 2]),\n",
    "                    heuristic(location, [dim / 2, dim / 2 - 1]), heuristic(location, [dim / 2 - 1, dim / 2 - 1])])"
   ]
  },
  {
   "cell_type": "markdown",
   "metadata": {},
   "source": [
    "The traverse function returns the desired rotation and movement required to get from the current location to another location\n",
    "given the current heading . The if loop deals with negative movements while the else loop deals with positive movements."
   ]
  },
  {
   "cell_type": "code",
   "execution_count": null,
   "metadata": {
    "collapsed": true
   },
   "outputs": [],
   "source": [
    "def traverse(current_loc, desired_loc, heading):\n",
    "    if (current_loc[1] - desired_loc[1] < 0 and heading == 'left') or (\n",
    "                current_loc[1] - desired_loc[1] > 0 and heading == 'right') or (\n",
    "                current_loc[0] - desired_loc[0] < 0 and heading == 'down') or (\n",
    "                current_loc[0] - desired_loc[0] > 0 and heading == 'up'):\n",
    "        if heading == 'left' or heading == 'right':\n",
    "            return 0, -abs(current_loc[1] - desired_loc[1])\n",
    "        else:\n",
    "            return 0, -abs(current_loc[0] - desired_loc[0])\n",
    "    else:\n",
    "        if current_loc[0] == desired_loc[0]:\n",
    "            movement = abs(current_loc[1] - desired_loc[1])\n",
    "            if heading == 'left' or heading == 'right':\n",
    "                rotation = 0\n",
    "            elif heading == 'up':\n",
    "                if current_loc[1] - desired_loc[1] < 0:\n",
    "                    rotation = 90\n",
    "                else:\n",
    "                    rotation = -90\n",
    "            else:\n",
    "                if current_loc[1] - desired_loc[1] < 0:\n",
    "                    rotation = -90\n",
    "                else:\n",
    "                    rotation = 90\n",
    "        if current_loc[1] == desired_loc[1]:\n",
    "            movement = abs(current_loc[0] - desired_loc[0])\n",
    "            if heading == 'up' or heading == 'down':\n",
    "                rotation = 0\n",
    "            elif heading == 'left':\n",
    "                if current_loc[0] - desired_loc[0] < 0:\n",
    "                    rotation = 90\n",
    "                else:\n",
    "                    rotation = -90\n",
    "            else:\n",
    "                if current_loc[0] - desired_loc[0] < 0:\n",
    "                    rotation = -90\n",
    "                else:\n",
    "                    rotation = 90\n",
    "    return rotation, movement"
   ]
  },
  {
   "cell_type": "markdown",
   "metadata": {},
   "source": [
    "The addtograph function takes in the current graph, current heading and location of the robot and the sensor input of the\n",
    "current location. It then uses all of the above information to add edges between all detected cells which are adjacent to each\n",
    "other. The graph stores nodes as a 1D value given by \"Current Column Location *Dimension of Maze + Current Row Location\""
   ]
  },
  {
   "cell_type": "code",
   "execution_count": null,
   "metadata": {
    "collapsed": true
   },
   "outputs": [],
   "source": [
    "def addtograph(G, location, heading, sensors):\n",
    "    loc = location[1] * dim + location[0]\n",
    "\n",
    "    if heading == 'up':\n",
    "        if sensors[0] > 0:\n",
    "            for i in range(loc - dim, loc - dim * sensors[0] - 1, -dim):\n",
    "                G.add_edge(i, loc)\n",
    "                loc = i\n",
    "        loc = location[1] * dim + location[0]\n",
    "        if sensors[1] > 0:\n",
    "            for i in range(loc + 1, loc + sensors[1] + 1, 1):\n",
    "                G.add_edge(i, loc)\n",
    "                loc = i\n",
    "        loc = location[1] * dim + location[0]\n",
    "        if sensors[2] > 0:\n",
    "            for i in range(loc + dim, loc + dim * sensors[2] + 1, dim):\n",
    "                G.add_edge(i, loc)\n",
    "                loc = i\n",
    "    elif heading == 'down':\n",
    "        if sensors[0] > 0:\n",
    "            for i in range(loc + dim, loc + dim * sensors[0] + 1, dim):\n",
    "                G.add_edge(i, loc)\n",
    "                loc = i\n",
    "        loc = location[1] * dim + location[0]\n",
    "        if sensors[1] > 0:\n",
    "            for i in range(loc - 1, loc - sensors[1] - 1, -1):\n",
    "                G.add_edge(i, loc)\n",
    "                loc = i\n",
    "        loc = location[1] * dim + location[0]\n",
    "        if sensors[2] > 0:\n",
    "            for i in range(loc - dim, loc - dim * sensors[2] - 1, -dim):\n",
    "                G.add_edge(i, loc)\n",
    "                loc = i\n",
    "    elif heading == 'right':\n",
    "        if sensors[0] > 0:\n",
    "            for i in range(loc + 1, loc + sensors[0] + 1, 1):\n",
    "                G.add_edge(i, loc)\n",
    "                loc = i\n",
    "        loc = location[1] * dim + location[0]\n",
    "        if sensors[1] > 0:\n",
    "            for i in range(loc + dim, loc + dim * sensors[1] + 1, dim):\n",
    "                G.add_edge(i, loc)\n",
    "                loc = i\n",
    "        loc = location[1] * dim + location[0]\n",
    "        if sensors[2] > 0:\n",
    "            for i in range(loc - 1, loc - sensors[2] - 1, -1):\n",
    "                G.add_edge(i, loc)\n",
    "                loc = i\n",
    "    else:\n",
    "        if sensors[0] > 0:\n",
    "            for i in range(loc - 1, loc - sensors[0] - 1, -1):\n",
    "                G.add_edge(i, loc)\n",
    "                loc = i\n",
    "        loc = location[1] * dim + location[0]\n",
    "        if sensors[1] > 0:\n",
    "            for i in range(loc - dim, loc - dim * sensors[1] - 1, -dim):\n",
    "                G.add_edge(i, loc)\n",
    "                loc = i\n",
    "        loc = location[1] * dim + location[0]\n",
    "        if sensors[2] > 0:\n",
    "            for i in range(loc + 1, loc + sensors[2] + 1, 1):\n",
    "                G.add_edge(i, loc)\n",
    "                loc = i\n",
    "                "
   ]
  },
  {
   "cell_type": "markdown",
   "metadata": {},
   "source": [
    "The cleanup_graph function further adds edges between nodes that are reachable from a particular location . For e.g. [3,0] might\n",
    "be reachable from [0,0] and so is added . This ensures that the robot prefers taking straight paths over curves during the \n",
    "2nd run and also that robot takes more than 1 step whenever deemed necessary."
   ]
  },
  {
   "cell_type": "code",
   "execution_count": null,
   "metadata": {
    "collapsed": true
   },
   "outputs": [],
   "source": [
    "def cleanup_graph(G):\n",
    "    for node in G.nodes():\n",
    "        for neighbor in G.neighbors(node):\n",
    "            for child in G.neighbors(neighbor):\n",
    "                if neighbor == node+1 and child == neighbor+1:\n",
    "                    G.add_edge(node, child)\n",
    "                    for grandchild in G.neighbors(child):\n",
    "                        if grandchild == child+1:\n",
    "                            G.add_edge(node, grandchild)\n",
    "                if neighbor == node+dim and child == neighbor+dim:\n",
    "                    G.add_edge(node, child)\n",
    "                    for grandchild in G.neighbors(child):\n",
    "                        if grandchild == child+dim:\n",
    "                            G.add_edge(node, grandchild)"
   ]
  },
  {
   "cell_type": "markdown",
   "metadata": {},
   "source": [
    "As earlier discussed the nodes in the graph are stored as a single value. This function is used to take that value and return\n",
    "the actual coordinates for that value."
   ]
  },
  {
   "cell_type": "code",
   "execution_count": null,
   "metadata": {
    "collapsed": true
   },
   "outputs": [],
   "source": [
    "def getcoord(loc):\n",
    "    return loc % dim, loc / dim"
   ]
  },
  {
   "cell_type": "markdown",
   "metadata": {},
   "source": [
    "The travel function takes 1D locations and the current heading and returns the rotation and movement required to get from the\n",
    "start to the end."
   ]
  },
  {
   "cell_type": "code",
   "execution_count": null,
   "metadata": {
    "collapsed": true
   },
   "outputs": [],
   "source": [
    "def travel(start, end, heading):\n",
    "    current_loc = getcoord(start)\n",
    "    desired_loc = getcoord(end)\n",
    "    return traverse(current_loc, desired_loc, heading)"
   ]
  },
  {
   "cell_type": "markdown",
   "metadata": {},
   "source": [
    "The following good neighbor function calculates the next best location of the neighbor using the visited counter matrix, current \n",
    "location of the robot and the current-known graph of the maze"
   ]
  },
  {
   "cell_type": "code",
   "execution_count": null,
   "metadata": {
    "collapsed": true
   },
   "outputs": [],
   "source": [
    "def goodneighbor(G, visited, location):\n",
    "    currentloc = location[1] * dim + location[0]          #location as a 1D value as discussed earlier\n",
    "    minimum = inf                                          #Initialize minimum visited count as infinity\n",
    "    for neighbor in G.neighbors(currentloc):               #Iterate among neighbors of current node\n",
    "        if minimum == visited[neighbor % dim][neighbor / dim]:\n",
    "            if heurist_val > hcost([neighbor % dim, neighbor / dim], dim):  #Use hcost to resolve ties. Goal-Seeking Tendency\n",
    "                minimum = visited[neighbor % dim][neighbor / dim]\n",
    "                heurist_val = hcost([neighbor % dim, neighbor / dim], dim)\n",
    "                optimumloc = neighbor\n",
    "        if minimum > visited[neighbor % dim][neighbor / dim]:    #Use minimum visited count to select the best neighbour.\n",
    "            minimum = visited[neighbor % dim][neighbor / dim]           #Update the new minimum visited count\n",
    "            heurist_val = hcost([neighbor % dim, neighbor / dim], dim)  #Update heurist_val\n",
    "            optimumloc = neighbor                                       #Set desired destination to this neighbour   \n",
    "    return getcoord(optimumloc)                                         #Get Coordinates of desired destination neighbor"
   ]
  },
  {
   "cell_type": "markdown",
   "metadata": {},
   "source": [
    "The following bad neighbor function calculates the next best location post-goal reach stint in the first run using the located \n",
    "counter matrix , current location and the current known graph of the maze."
   ]
  },
  {
   "cell_type": "code",
   "execution_count": null,
   "metadata": {
    "collapsed": true
   },
   "outputs": [],
   "source": [
    "def badneighbor(G, located, location):\n",
    "    currentloc = location[1] * dim + location[0]\n",
    "    minimum = inf\n",
    "    for neighbor in G.neighbors(currentloc):\n",
    "        if minimum == located[neighbor % dim][neighbor / dim]:\n",
    "            if heurist_val < hcost([neighbor % dim, neighbor / dim], dim): #Use Maximum Hcost to resolve ties.Goal-Repulsive \n",
    "                minimum = located[neighbor % dim][neighbor / dim]\n",
    "                heurist_val = hcost([neighbor % dim, neighbor / dim], dim)\n",
    "                optimumloc = neighbor\n",
    "        if minimum > located[neighbor % dim][neighbor / dim]: #Uses located matrix inplace of visited matrix as in goodneighbor\n",
    "            minimum = located[neighbor % dim][neighbor / dim] \n",
    "            heurist_val = hcost([neighbor % dim, neighbor / dim], dim)\n",
    "            optimumloc = neighbor\n",
    "    return getcoord(optimumloc)"
   ]
  },
  {
   "cell_type": "markdown",
   "metadata": {},
   "source": [
    "The following function updates the located matrix . All cells which are located by the sensor once or more are given a value of\n",
    "0.5(metric) while other visited cells are given a value of +1 which is incremented if they are visited more than once."
   ]
  },
  {
   "cell_type": "code",
   "execution_count": null,
   "metadata": {
    "collapsed": true
   },
   "outputs": [],
   "source": [
    "def addtolocated(located, location, heading, sensors, metric):\n",
    "    loc = location[1] * dim + location[0]\n",
    "\n",
    "    if heading == 'up':\n",
    "        if sensors[0] > 0:\n",
    "            for i in range(loc - dim, loc - dim * sensors[0] - 1, -dim): #Iterate for all left cells\n",
    "                x, y = getcoord(i)\n",
    "                if located[x][y] == 0:                         #If location was previously neither visited nor located\n",
    "                    located[x][y] += metric                      # Add 0.5 to the current located coordinate \n",
    "        if sensors[1] > 0:\n",
    "            for i in range(loc + 1, loc + sensors[1] + 1, 1):       #iterate for all forward cells\n",
    "                x, y = getcoord(i)\n",
    "                if located[x][y] == 0:\n",
    "                    located[x][y] += metric\n",
    "        if sensors[2] > 0:                                           \n",
    "            for i in range(loc + dim, loc + dim * sensors[2] + 1, dim):   #Iterate for all right cells.\n",
    "                x, y = getcoord(i)\n",
    "                if located[x][y] == 0:\n",
    "                    located[x][y] += metric\n",
    "    elif heading == 'down':\n",
    "        if sensors[0] > 0:\n",
    "            for i in range(loc + dim, loc + dim * sensors[0] + 1, dim):\n",
    "                x, y = getcoord(i)\n",
    "                if located[x][y] == 0:\n",
    "                    located[x][y] += metric\n",
    "        if sensors[1] > 0:\n",
    "            for i in range(loc - 1, loc - sensors[1] - 1, -1):\n",
    "                x, y = getcoord(i)\n",
    "                if located[x][y] == 0:\n",
    "                    located[x][y] += metric\n",
    "        if sensors[2] > 0:\n",
    "            for i in range(loc - dim, loc - dim * sensors[2] - 1, -dim):\n",
    "                x, y = getcoord(i)\n",
    "                if located[x][y] == 0:\n",
    "                    located[x][y] += metric\n",
    "    elif heading == 'right':\n",
    "        if sensors[0] > 0:\n",
    "            for i in range(loc + 1, loc + sensors[0] + 1, 1):\n",
    "                x, y = getcoord(i)\n",
    "                if located[x][y] == 0:\n",
    "                    located[x][y] += metric\n",
    "        if sensors[1] > 0:\n",
    "            for i in range(loc + dim, loc + dim * sensors[1] + 1, dim):\n",
    "                x, y = getcoord(i)\n",
    "                if located[x][y] == 0:\n",
    "                    located[x][y] += metric\n",
    "        if sensors[2] > 0:\n",
    "            for i in range(loc - 1, loc - sensors[2] - 1, -1):\n",
    "                x, y = getcoord(i)\n",
    "                if located[x][y] == 0:\n",
    "                    located[x][y] += metric\n",
    "    else:\n",
    "        if sensors[0] > 0:\n",
    "            for i in range(loc - 1, loc - sensors[0] - 1, -1):\n",
    "                x, y = getcoord(i)\n",
    "                if located[x][y] == 0:\n",
    "                    located[x][y] += metric\n",
    "        if sensors[1] > 0:\n",
    "            for i in range(loc - dim, loc - dim * sensors[1] - 1, -dim):\n",
    "                x, y = getcoord(i)\n",
    "                if located[x][y] == 0:\n",
    "                    located[x][y] += metric\n",
    "        if sensors[2] > 0:\n",
    "            for i in range(loc + 1, loc + sensors[2] + 1, 1):\n",
    "                x, y = getcoord(i)\n",
    "                if located[x][y] == 0:\n",
    "                    located[x][y] += metric"
   ]
  },
  {
   "cell_type": "markdown",
   "metadata": {},
   "source": [
    "This function is used to calculate coverage of the maze given the located matrix as calculated earlier. Total Coverage is \n",
    "incremented by 1 if the cell has been visited once or more and is incremented by 0.5 if the cell has been located but not visited.\n",
    "Then Coverage= 100 X TotalCoverage/(Dim*Dim)"
   ]
  },
  {
   "cell_type": "code",
   "execution_count": null,
   "metadata": {
    "collapsed": true
   },
   "outputs": [],
   "source": [
    "def showcoverage(located):\n",
    "    coverage = 0\n",
    "    for i in range(dim):\n",
    "        for j in range(dim):\n",
    "            if located[i][j] == 0.5:     #Check if location has been located by the sensor but not visited\n",
    "                coverage += 0.5\n",
    "            if located[i][j] >= 1:       #Check if location has been visited atleast once.\n",
    "                coverage += 1\n",
    "    return (coverage*100.0)/(dim*dim)"
   ]
  },
  {
   "cell_type": "markdown",
   "metadata": {},
   "source": [
    "The backtracker function is a major chunk of the implementation of the backtracker algorithm. It takes in the stack s, current\n",
    "heading of the robot , the vis2 matrix which has values 0 for non visited cells, values -1 for cells from whom backtracking was\n",
    "done and value 1 for all other cells."
   ]
  },
  {
   "cell_type": "code",
   "execution_count": null,
   "metadata": {
    "collapsed": true
   },
   "outputs": [],
   "source": [
    "def backtracker(s, heading, vis2, G):\n",
    "    currentloc = s.peek()             #Current location is always pushed at the top of the stack\n",
    "    vis2[currentloc] = 1              #Current location always has value 1\n",
    "    heurist_val = inf                 \n",
    "    flag = 0                   \n",
    "    for neighbor in G.neighbors(currentloc):\n",
    "        if vis2[neighbor] == 0:            #Check for unvisited cells\n",
    "            flag = 1                       # Put flag = 1 so that visited cells are ignored in the further code for the location.\n",
    "            if heurist_val > hcost([neighbor % dim, neighbor / dim], dim):\n",
    "                desiredloc = neighbor       #Use hcost to resolve ties\n",
    "                heurist_val = hcost([neighbor % dim, neighbor / dim], dim)\n",
    "    for neighbor in G.neighbors(currentloc):\n",
    "        if vis2[neighbor] == 1 and flag == 0:   #If no unvisited cells\n",
    "            flag = 1                            #Put flag = 1 so that other cells are now ignored.\n",
    "            s.pop()                             # Pop the current location from the stack\n",
    "            desiredloc = s.peek()               # Desired location is the top element of the stack--> Backtracking till unvisited\n",
    "                                                #cells are found.\n",
    "            vis2[currentloc] = -1               #Set the popped out location value to -1\n",
    "    print vis2                                  \n",
    "    return travel(currentloc, desiredloc, heading) #Call travel function to return required rotation, movement."
   ]
  },
  {
   "cell_type": "markdown",
   "metadata": {},
   "source": [
    "The badbacktracker function is the post -goal reach stint version of the backtracker algorithm. The only difference is that it\n",
    "uses maximum hcost to resolve ties. Everything else is the same. "
   ]
  },
  {
   "cell_type": "code",
   "execution_count": null,
   "metadata": {
    "collapsed": true
   },
   "outputs": [],
   "source": [
    "def badbacktracker(s, heading, vis2, G):\n",
    "    currentloc = s.peek()\n",
    "    vis2[currentloc] = 1\n",
    "    heurist_val = -inf               #Set heurist_val to -inf since we are taking a goal repulsive tendency.\n",
    "    flag = 0\n",
    "    for neighbor in G.neighbors(currentloc):\n",
    "        if vis2[neighbor] == 0:\n",
    "            flag = 1\n",
    "            if heurist_val < hcost([neighbor % dim, neighbor / dim], dim):\n",
    "                desiredloc = neighbor\n",
    "                heurist_val = hcost([neighbor % dim, neighbor / dim], dim)\n",
    "    for neighbor in G.neighbors(currentloc):\n",
    "        if vis2[neighbor] == 1 and flag == 0:\n",
    "            flag = 1\n",
    "            s.pop()\n",
    "            desiredloc = s.peek()\n",
    "            vis2[currentloc] = -1\n",
    "    print vis2\n",
    "    return travel(currentloc, desiredloc, heading)"
   ]
  },
  {
   "cell_type": "markdown",
   "metadata": {},
   "source": [
    "The locbacktracker is the post-goal reach stint version of the backtracker algorithm. As opposed to the Bad BackTracker Algorithm\n",
    "it uses the minimum located counter to resolve ties and the maximum heuristic value to further resolve ties."
   ]
  },
  {
   "cell_type": "code",
   "execution_count": null,
   "metadata": {
    "collapsed": true
   },
   "outputs": [],
   "source": [
    "def locbacktracker(s, heading, vis2, G, located):\n",
    "    currentloc = s.peek()\n",
    "    vis2[currentloc] = 1\n",
    "    heurist_val = -inf\n",
    "    flag = 0\n",
    "    minimum = inf\n",
    "    for neighbor in G.neighbors(currentloc):\n",
    "        if vis2[neighbor] == 0:\n",
    "            flag = 1\n",
    "            if minimum == located[neighbor % dim][neighbor / dim]:\n",
    "                if heurist_val < hcost([neighbor % dim, neighbor / dim], dim):\n",
    "                    minimum = located[neighbor % dim][neighbor / dim]\n",
    "                    heurist_val = hcost([neighbor % dim, neighbor / dim], dim)\n",
    "                    desiredloc = neighbor\n",
    "            if minimum > located[neighbor % dim][neighbor / dim]:\n",
    "                minimum = located[neighbor % dim][neighbor / dim]\n",
    "                heurist_val = hcost([neighbor % dim, neighbor / dim], dim)\n",
    "                desiredloc = neighbor\n",
    "    for neighbor in G.neighbors(currentloc):\n",
    "        if vis2[neighbor] == 1 and flag == 0:\n",
    "            flag = 1\n",
    "            s.pop()\n",
    "            desiredloc = s.peek()\n",
    "            vis2[currentloc] = -1\n",
    "    print vis2\n",
    "    return travel(currentloc, desiredloc, heading)"
   ]
  },
  {
   "cell_type": "markdown",
   "metadata": {},
   "source": [
    "The robot class is now discussed . Comments are included at appropriate places. "
   ]
  },
  {
   "cell_type": "code",
   "execution_count": null,
   "metadata": {
    "collapsed": true
   },
   "outputs": [],
   "source": [
    "class Robot(object):\n",
    "    def __init__(self, maze_dim):\n",
    "        self.location = [0, 0]   #Initial location\n",
    "        self.heading = 'up'      #Initial heading\n",
    "        self.maze_dim = maze_dim\n",
    "        global dim\n",
    "        dim = maze_dim           # Set the global variable dim\n",
    "        self.flag = 0            # Used for goal reached or not in the first run\n",
    "        self.visited = np.zeros((self.maze_dim, self.maze_dim))  #Initialize visited matrix to zeros\n",
    "        self.located = np.zeros((self.maze_dim, self.maze_dim))  #Initialize located matrix to zeros\n",
    "        self.vis2 = np.zeros(self.maze_dim*self.maze_dim)        #Initialize vis2 matrix to zeros\n",
    "        self.visited[0][0] = 1                                   \n",
    "        self.located[0][0] = 1\n",
    "        self.goal_loc = [0, 0]                                  #Initialize goal location\n",
    "        self.count = 1                                          \n",
    "        G = nx.Graph()                                          # Create a graph\n",
    "        for i in range(0, dim * dim):\n",
    "            G.add_node(i)                                       # Add all dim*dim nodes to it. \n",
    "        self.graph = G  \n",
    "        self.path = []      #Initialize optimal shortest path (2nd Run)                \n",
    "        self.gn1 = 1        # 1-> Implements Good Neighbor Algorithm for Pre-GoalReach Stint\n",
    "                            # 0-> Implements Backtracking Algorithm for Pre-GoalReach Stint\n",
    "        self.gn2 = 0        # 1-> Implements Good Neighbor Algorithm for Post-GoalReach Stint\n",
    "                            # 0-> Implements Backtracking Algorithm for Post-GoalReach Stint\n",
    "        self.s = Stack()    #Create a stack\n",
    "        #Put both turtles to start position and set their heading\n",
    "        subir.penup()\n",
    "        subir.setpos(-10*dim+10, -10*dim+10)\n",
    "        subir.pendown()\n",
    "        subir.left(90)\n",
    "        ritwik.penup()\n",
    "        ritwik.setpos(-10 * dim + 10, -10 * dim + 10)\n",
    "        ritwik.pendown()\n",
    "        ritwik.left(90)                                         \n",
    "        #Subir -> First Run turtle : Ritwik -> Second Run Turtle\n",
    "\n",
    "    def next_move(self, sensors):\n",
    "        if self.flag == 0 and self.gn1 == 1:    #Implementing Good Neighbor Algorithm for the pre-goal reach stint (1st Run)\n",
    "            addtograph(self.graph, self.location, self.heading, sensors)  #Updating Graph\n",
    "            cleanup_graph(self.graph)                                     #Updating Graph\n",
    "            addtolocated(self.located, self.location, self.heading, sensors, 0.5)   #Updating located matrix            \n",
    "            rotation, movement = traverse(self.location, goodneighbor(self.graph, self.visited, self.location),\n",
    "                                          self.heading)                #Calling the good neighbor algorithm for required\n",
    "                                                                       #rotation and movement\n",
    "            if np.amax(sensors) == 0 or movement == -1:                  #If deadend or moving backwards \n",
    "                self.visited[self.location[0]][self.location[1]] += 1   #Increment counter for visited matrix\n",
    "                self.located[self.location[0]][self.location[1]] += 1   #Increment counter for located matrix\n",
    "            subir.right(rotation)                                       #Rotate the turtle\n",
    "            subir.forward(movement*20)                                  #Move the turtle\n",
    "            self.heading = steer(self.heading, rotation)                #Calculate new heading to be used as current heading\n",
    "                                                                        #for the next time step\n",
    "            self.location = move(self.heading, self.location, movement) #Calculate new location to be used as current location\n",
    "                                                                        #for the next time step\n",
    "            self.visited[self.location[0]][self.location[1]] += 1       #Increment counter for visited matrix for the going to \n",
    "                                                                        #be new location\n",
    "            self.located[self.location[0]][self.location[1]] += 1       #Increment counter for located matrix for the going to\n",
    "                                                                        #be new location\n",
    "\n",
    "            if isGoal(self.location, self.maze_dim):                 #Check if goal is reached\n",
    "                self.flag = 1\n",
    "                self.goal_loc = self.location                        #Set goal location \n",
    "                self.count = 0                                      \n",
    "                time.sleep(0.5)                                      #Take rest :P\n",
    "                print \"GOAL IS REACHED YOHOO!!!\"                      \n",
    "                time.sleep(1)                                        #Rejoice for 1 second! :P.\n",
    "        elif self.flag == 0 and self.gn1 == 0:  #Implementing BackTracking Algorithm for the pre-goal reach stint (1st Run)\n",
    "            addtograph(self.graph, self.location, self.heading, sensors)\n",
    "            cleanup_graph(self.graph)\n",
    "            addtolocated(self.located, self.location, self.heading, sensors, 0.5)\n",
    "            if self.vis2[self.location[1] * dim + self.location[0]] == 0:   #If location not visited before\n",
    "                self.vis2[self.location[1] * dim + self.location[0]] = 1      #Update vis2[current_location] to 1\n",
    "                self.s.push(self.location[1] * dim + self.location[0])        #Push it into the stack\n",
    "            rotation, movement = backtracker(self.s, self.heading, self.vis2, self.graph)  #Get Desired Rotation and Movement.\n",
    "            if np.amax(sensors) == 0 or movement < 0:\n",
    "                self.located[self.location[0]][self.location[1]] += 1\n",
    "            subir.right(rotation)\n",
    "            subir.forward(movement * 20)\n",
    "            self.heading = steer(self.heading, rotation)\n",
    "            self.location = move(self.heading, self.location, movement)\n",
    "            self.located[self.location[0]][self.location[1]] += 1\n",
    "\n",
    "            if isGoal(self.location, self.maze_dim):\n",
    "                self.flag = 1\n",
    "                self.goal_loc = self.location\n",
    "                self.count = 0\n",
    "                time.sleep(0.5)\n",
    "                print \"GOAL IS REACHED YOHOO!!!\"\n",
    "                time.sleep(1)\n",
    "            #Now the PRE-GOAL REACH Stint comes to an END. We will now explore atleast 75% of the maze if not already done.\n",
    "            \n",
    "        elif self.flag == 1 and self.count == 0 and showcoverage(self.located) < 76 and self.gn2 == 1: #Bad Neighbour Algo\n",
    "            addtograph(self.graph, self.location, self.heading, sensors)\n",
    "            cleanup_graph(self.graph)\n",
    "            addtolocated(self.located, self.location, self.heading, sensors, 0.5)\n",
    "            rotation, movement = traverse(self.location,\n",
    "                                          badneighbor(self.graph, self.located, self.location), self.heading)\n",
    "            if np.amax(sensors) == 0 or movement == -1:\n",
    "                self.located[self.location[0]][self.location[1]] += 1\n",
    "            subir.right(rotation)\n",
    "            subir.forward(movement * 20)\n",
    "            self.heading = steer(self.heading, rotation)\n",
    "            self.location = move(self.heading, self.location, movement)\n",
    "            self.located[self.location[0]][self.location[1]] += 1\n",
    "            \n",
    "        elif self.flag == 1 and self.count == 0 and showcoverage(self.located) < 76 and self.gn2 == 0:#Location Backtracker Algo\n",
    "            addtograph(self.graph, self.location, self.heading, sensors)\n",
    "            cleanup_graph(self.graph)\n",
    "            addtolocated(self.located, self.location, self.heading, sensors, 0.5)\n",
    "            if self.vis2[self.location[1] * dim + self.location[0]] == 0:\n",
    "                self.vis2[self.location[1] * dim + self.location[0]] = 1\n",
    "                self.s.push(self.location[1] * dim + self.location[0])\n",
    "            rotation, movement = locbacktracker(self.s, self.heading, self.vis2, self.graph, self.located) \n",
    "            #Change func to badbacktracker(self.s, self.heading, self.vis2, self.graph) to visualize the results of the \n",
    "            #Bad BackTracker Algorithm\n",
    "            if np.amax(sensors) == 0 or movement < 0:\n",
    "                self.located[self.location[0]][self.location[1]] += 1\n",
    "            subir.right(rotation)\n",
    "            subir.forward(movement * 20)\n",
    "            self.heading = steer(self.heading, rotation)\n",
    "            self.location = move(self.heading, self.location, movement)\n",
    "            self.located[self.location[0]][self.location[1]] += 1\n",
    "            #We now have completed the First Run with both Pre- and Post- Goal Reach Stints. We move on to the 2nd Run.\n",
    "        else:\n",
    "            if self.count == 0:        #If Reset is not returned for start for Second Run Yet.\n",
    "                self.count = 1\n",
    "                cleanup_graph(self.graph)\n",
    "                self.path = nx.shortest_path(self.graph, 0, self.goal_loc[1] * dim + self.goal_loc[0]) #Find the shortest path\n",
    "                                                                                                    #Store it into self.path\n",
    "                print len(self.path)  #See the no. of moves it will take us.\n",
    "                self.location = [0, 0]          \n",
    "                self.heading = 'up'\n",
    "                return 'Reset', 'Reset'       #Return Reset, Reset to start the second run\n",
    "            else:\n",
    "                rotation, movement = travel(self.location[1] * dim + self.location[0], self.path[self.count],\n",
    "                                            self.heading)\n",
    "                ritwik.right(rotation)\n",
    "                ritwik.forward(movement * 20)\n",
    "                self.heading = steer(self.heading, rotation)\n",
    "                self.location = move(self.heading, self.location, movement)\n",
    "                self.count += 1\n",
    "        return rotation, movement"
   ]
  }
 ],
 "metadata": {
  "anaconda-cloud": {},
  "kernelspec": {
   "display_name": "Python [Root]",
   "language": "python",
   "name": "Python [Root]"
  },
  "language_info": {
   "codemirror_mode": {
    "name": "ipython",
    "version": 2
   },
   "file_extension": ".py",
   "mimetype": "text/x-python",
   "name": "python",
   "nbconvert_exporter": "python",
   "pygments_lexer": "ipython2",
   "version": "2.7.12"
  }
 },
 "nbformat": 4,
 "nbformat_minor": 0
}
